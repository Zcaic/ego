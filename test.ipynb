{
 "cells": [
  {
   "cell_type": "code",
   "execution_count": 1,
   "id": "f0f5d2a5",
   "metadata": {},
   "outputs": [],
   "source": [
    "import plotly.graph_objects as go \n",
    "from plotly.subplots import make_subplots\n",
    "import aerosandbox.numpy as anp\n",
    "import aerosandbox as asb \n",
    "from surrogate import Surrogate2Callback,Surrogate,KRG"
   ]
  },
  {
   "cell_type": "code",
   "execution_count": 2,
   "id": "0ff6df02",
   "metadata": {},
   "outputs": [
    {
     "data": {
      "application/vnd.plotly.v1+json": {
       "config": {
        "plotlyServerURL": "https://plot.ly",
        "scrollZoom": true
       },
       "data": [
        {
         "line": {
          "shape": "spline",
          "width": 2
         },
         "mode": "lines+markers",
         "type": "scatter",
         "x": {
          "bdata": "AAAAAAAAAABbv1Kg1q+kP1u/UqDWr7Q/CB988MEHvz9bv1Kg1q/EPzJvZ0jM28k/CB988MEHzz9wZ0jM2xnSP1u/UqDWr9Q/RhdddNFF1z8yb2dIzNvZPx3HcRzHcdw/CB988MEH3z96O0Ni3s7gP3BnSMzbGeI/ZZNNNtlk4z9bv1Kg1q/kP1HrVwrU+uU/RhdddNFF5z88Q2LezpDoPzJvZ0jM2+k/J5tssskm6z8dx3Ecx3HsPxPzdobEvO0/CB988MEH7z9/pUCtXynwP3o7Q2LezvA/ddFFF1108T9wZ0jM2xnyP2r9SoFav/I/ZZNNNtlk8z9gKVDrVwr0P1u/UqDWr/Q/VlVVVVVV9T9R61cK1Pr1P0yBWr9SoPY/RhdddNFF9z9BrV8pUOv3PzxDYt7OkPg/N9lkk002+T8yb2dIzNv5Py0Fav1Kgfo/J5tssskm+z8iMW9nSMz7Px3HcRzHcfw/GF100UUX/T8T83aGxLz9Pw6JeTtDYv4/CB988MEH/z8DtX6lQK3/P3+lQK1fKQBAffDBBx98AEB6O0Ni3s4AQHeGxLydIQFAddFFF110AUByHMdxHMcBQHBnSMzbGQJAbbLJJptsAkBq/UqBWr8CQGhIzNsZEgNAZZNNNtlkA0Bj3s6QmLcDQGApUOtXCgRAXnTRRRddBEBbv1Kg1q8EQFgK1PqVAgVAVlVVVVVVBUBToNavFKgFQFHrVwrU+gVATjbZZJNNBkBMgVq/UqAGQEnM2xkS8wZARhdddNFFB0BEYt7OkJgHQEGtXylQ6wdAP/jggw8+CEA8Q2LezpAIQDmO4ziO4whAN9lkk002CUA0JObtDIkJQDJvZ0jM2wlAL7rooosuCkAtBWr9SoEKQCpQ61cK1ApAJ5tssskmC0Al5u0MiXkLQCIxb2dIzAtAIHzwwQcfDEAdx3Ecx3EMQBsS83aGxAxAGF100UUXDUAVqPUrBWoNQBPzdobEvA1AED744IMPDkAOiXk7Q2IOQAvU+pUCtQ5ACB988MEHD0AGav1KgVoPQAO1fqVArQ9AAAAAAAAAEEA=",
          "dtype": "f8"
         },
         "xaxis": "x",
         "y": {
          "bdata": "AAAAAACAGT1AtKD4DX6QPxBb76Z++KE/wMuAlsoorT8oT6UH/OS0P6idTw3i6bs/bG1WsenOwT8YRiTTOP3FP8y5/DsnfMo/iMrdBHxHzz9QktPpQS3SP6qMyH8M2NQ/wp/3PFah1z8XxfOuJ4baP38KuYReg90/RYmQaNlK4D98+IY63tzhPxN84VH8deM/ESZqumcU5T/+Hhy8TLbmP/NyJqHSWeg/ckyCcx796T9C2GuuVZ7rP5VLwuCgO+0/ibsBPi7T7j8QVhUOmjHwP+YGva759PA/wxSm4tyy8T8u+/AbcmryP6/if3LwGvM/Jju+rpjD8z8JguxJtmP0P/Tv7GOg+vQ/xQ5wrrqH9T9AazVNdgr2P8qt3qpSgvY/ydGUQd7u9j90u3pWt0/3P3MjoaaMpPc/1PToAx7t9z/GIP7fPCn4P0nhWMPMWPg/IpEBrsN7+D8ikq5fKpL4PxbKvoQcnPg/MDaQxciZ+D9CosK1cIv4P1zSG6Focfg/vej8MxdM+D9ya6j99Bv4P8xH/MqL4fc/wC+62HWd9z+QuADdXFD3P1E3Luj4+vY/zHUIHg+e9j+Elq5IcDr2P8QZiUf30PU/dvYaXYdi9T9JBEJfCvD0P+hqGM5uevQ/cWBA1qUC9D+IYOtDoYnzPwqfYmxREPM/KqI0FKOX8j/a9HBYfSDyP2+YhKG/q/E/5LJWpj868T+k/DOGx8zwPzpf6P8TZPA/M3EZzNIA8D9oHBZBQkfvPyPJ5cIUmu4/bXDFCg777T8zQDxf92rtP4rf1Qdx6uw/CwUubPF57D/RcB2txBnsPx+78rgMyus/GoXQ2cGK6z+HvH27s1vrP8NoNOSKPOs/uSRQmsos6z+ixi4v0yvrP1jhKqbkOOs/CBVXrSFT6z8d8o/cknnrP5XfnC4qq+s/Nktyp8bm6z+hhToaOCvsP4cEmAFDd+w/BSWbXKTJ7D/0miWDFSHtP38V7ORPfO0/qdzvphDa7T/C9SEUHDnuP52a4tZAmO4/zrw08lr27j9nn79yVlLvP4GbEdExq+8/qP//////7z8=",
          "dtype": "f8"
         },
         "yaxis": "y"
        }
       ],
       "layout": {
        "margin": {
         "b": 20,
         "l": 20,
         "r": 20,
         "t": 20
        },
        "template": {
         "data": {
          "bar": [
           {
            "error_x": {
             "color": "#2a3f5f"
            },
            "error_y": {
             "color": "#2a3f5f"
            },
            "marker": {
             "line": {
              "color": "#E5ECF6",
              "width": 0.5
             },
             "pattern": {
              "fillmode": "overlay",
              "size": 10,
              "solidity": 0.2
             }
            },
            "type": "bar"
           }
          ],
          "barpolar": [
           {
            "marker": {
             "line": {
              "color": "#E5ECF6",
              "width": 0.5
             },
             "pattern": {
              "fillmode": "overlay",
              "size": 10,
              "solidity": 0.2
             }
            },
            "type": "barpolar"
           }
          ],
          "carpet": [
           {
            "aaxis": {
             "endlinecolor": "#2a3f5f",
             "gridcolor": "white",
             "linecolor": "white",
             "minorgridcolor": "white",
             "startlinecolor": "#2a3f5f"
            },
            "baxis": {
             "endlinecolor": "#2a3f5f",
             "gridcolor": "white",
             "linecolor": "white",
             "minorgridcolor": "white",
             "startlinecolor": "#2a3f5f"
            },
            "type": "carpet"
           }
          ],
          "choropleth": [
           {
            "colorbar": {
             "outlinewidth": 0,
             "ticks": ""
            },
            "type": "choropleth"
           }
          ],
          "contour": [
           {
            "colorbar": {
             "outlinewidth": 0,
             "ticks": ""
            },
            "colorscale": [
             [
              0,
              "#0d0887"
             ],
             [
              0.1111111111111111,
              "#46039f"
             ],
             [
              0.2222222222222222,
              "#7201a8"
             ],
             [
              0.3333333333333333,
              "#9c179e"
             ],
             [
              0.4444444444444444,
              "#bd3786"
             ],
             [
              0.5555555555555556,
              "#d8576b"
             ],
             [
              0.6666666666666666,
              "#ed7953"
             ],
             [
              0.7777777777777778,
              "#fb9f3a"
             ],
             [
              0.8888888888888888,
              "#fdca26"
             ],
             [
              1,
              "#f0f921"
             ]
            ],
            "type": "contour"
           }
          ],
          "contourcarpet": [
           {
            "colorbar": {
             "outlinewidth": 0,
             "ticks": ""
            },
            "type": "contourcarpet"
           }
          ],
          "heatmap": [
           {
            "colorbar": {
             "outlinewidth": 0,
             "ticks": ""
            },
            "colorscale": [
             [
              0,
              "#0d0887"
             ],
             [
              0.1111111111111111,
              "#46039f"
             ],
             [
              0.2222222222222222,
              "#7201a8"
             ],
             [
              0.3333333333333333,
              "#9c179e"
             ],
             [
              0.4444444444444444,
              "#bd3786"
             ],
             [
              0.5555555555555556,
              "#d8576b"
             ],
             [
              0.6666666666666666,
              "#ed7953"
             ],
             [
              0.7777777777777778,
              "#fb9f3a"
             ],
             [
              0.8888888888888888,
              "#fdca26"
             ],
             [
              1,
              "#f0f921"
             ]
            ],
            "type": "heatmap"
           }
          ],
          "histogram": [
           {
            "marker": {
             "pattern": {
              "fillmode": "overlay",
              "size": 10,
              "solidity": 0.2
             }
            },
            "type": "histogram"
           }
          ],
          "histogram2d": [
           {
            "colorbar": {
             "outlinewidth": 0,
             "ticks": ""
            },
            "colorscale": [
             [
              0,
              "#0d0887"
             ],
             [
              0.1111111111111111,
              "#46039f"
             ],
             [
              0.2222222222222222,
              "#7201a8"
             ],
             [
              0.3333333333333333,
              "#9c179e"
             ],
             [
              0.4444444444444444,
              "#bd3786"
             ],
             [
              0.5555555555555556,
              "#d8576b"
             ],
             [
              0.6666666666666666,
              "#ed7953"
             ],
             [
              0.7777777777777778,
              "#fb9f3a"
             ],
             [
              0.8888888888888888,
              "#fdca26"
             ],
             [
              1,
              "#f0f921"
             ]
            ],
            "type": "histogram2d"
           }
          ],
          "histogram2dcontour": [
           {
            "colorbar": {
             "outlinewidth": 0,
             "ticks": ""
            },
            "colorscale": [
             [
              0,
              "#0d0887"
             ],
             [
              0.1111111111111111,
              "#46039f"
             ],
             [
              0.2222222222222222,
              "#7201a8"
             ],
             [
              0.3333333333333333,
              "#9c179e"
             ],
             [
              0.4444444444444444,
              "#bd3786"
             ],
             [
              0.5555555555555556,
              "#d8576b"
             ],
             [
              0.6666666666666666,
              "#ed7953"
             ],
             [
              0.7777777777777778,
              "#fb9f3a"
             ],
             [
              0.8888888888888888,
              "#fdca26"
             ],
             [
              1,
              "#f0f921"
             ]
            ],
            "type": "histogram2dcontour"
           }
          ],
          "mesh3d": [
           {
            "colorbar": {
             "outlinewidth": 0,
             "ticks": ""
            },
            "type": "mesh3d"
           }
          ],
          "parcoords": [
           {
            "line": {
             "colorbar": {
              "outlinewidth": 0,
              "ticks": ""
             }
            },
            "type": "parcoords"
           }
          ],
          "pie": [
           {
            "automargin": true,
            "type": "pie"
           }
          ],
          "scatter": [
           {
            "fillpattern": {
             "fillmode": "overlay",
             "size": 10,
             "solidity": 0.2
            },
            "type": "scatter"
           }
          ],
          "scatter3d": [
           {
            "line": {
             "colorbar": {
              "outlinewidth": 0,
              "ticks": ""
             }
            },
            "marker": {
             "colorbar": {
              "outlinewidth": 0,
              "ticks": ""
             }
            },
            "type": "scatter3d"
           }
          ],
          "scattercarpet": [
           {
            "marker": {
             "colorbar": {
              "outlinewidth": 0,
              "ticks": ""
             }
            },
            "type": "scattercarpet"
           }
          ],
          "scattergeo": [
           {
            "marker": {
             "colorbar": {
              "outlinewidth": 0,
              "ticks": ""
             }
            },
            "type": "scattergeo"
           }
          ],
          "scattergl": [
           {
            "marker": {
             "colorbar": {
              "outlinewidth": 0,
              "ticks": ""
             }
            },
            "type": "scattergl"
           }
          ],
          "scattermap": [
           {
            "marker": {
             "colorbar": {
              "outlinewidth": 0,
              "ticks": ""
             }
            },
            "type": "scattermap"
           }
          ],
          "scattermapbox": [
           {
            "marker": {
             "colorbar": {
              "outlinewidth": 0,
              "ticks": ""
             }
            },
            "type": "scattermapbox"
           }
          ],
          "scatterpolar": [
           {
            "marker": {
             "colorbar": {
              "outlinewidth": 0,
              "ticks": ""
             }
            },
            "type": "scatterpolar"
           }
          ],
          "scatterpolargl": [
           {
            "marker": {
             "colorbar": {
              "outlinewidth": 0,
              "ticks": ""
             }
            },
            "type": "scatterpolargl"
           }
          ],
          "scatterternary": [
           {
            "marker": {
             "colorbar": {
              "outlinewidth": 0,
              "ticks": ""
             }
            },
            "type": "scatterternary"
           }
          ],
          "surface": [
           {
            "colorbar": {
             "outlinewidth": 0,
             "ticks": ""
            },
            "colorscale": [
             [
              0,
              "#0d0887"
             ],
             [
              0.1111111111111111,
              "#46039f"
             ],
             [
              0.2222222222222222,
              "#7201a8"
             ],
             [
              0.3333333333333333,
              "#9c179e"
             ],
             [
              0.4444444444444444,
              "#bd3786"
             ],
             [
              0.5555555555555556,
              "#d8576b"
             ],
             [
              0.6666666666666666,
              "#ed7953"
             ],
             [
              0.7777777777777778,
              "#fb9f3a"
             ],
             [
              0.8888888888888888,
              "#fdca26"
             ],
             [
              1,
              "#f0f921"
             ]
            ],
            "type": "surface"
           }
          ],
          "table": [
           {
            "cells": {
             "fill": {
              "color": "#EBF0F8"
             },
             "line": {
              "color": "white"
             }
            },
            "header": {
             "fill": {
              "color": "#C8D4E3"
             },
             "line": {
              "color": "white"
             }
            },
            "type": "table"
           }
          ]
         },
         "layout": {
          "annotationdefaults": {
           "arrowcolor": "#2a3f5f",
           "arrowhead": 0,
           "arrowwidth": 1
          },
          "autotypenumbers": "strict",
          "coloraxis": {
           "colorbar": {
            "outlinewidth": 0,
            "ticks": ""
           }
          },
          "colorscale": {
           "diverging": [
            [
             0,
             "#8e0152"
            ],
            [
             0.1,
             "#c51b7d"
            ],
            [
             0.2,
             "#de77ae"
            ],
            [
             0.3,
             "#f1b6da"
            ],
            [
             0.4,
             "#fde0ef"
            ],
            [
             0.5,
             "#f7f7f7"
            ],
            [
             0.6,
             "#e6f5d0"
            ],
            [
             0.7,
             "#b8e186"
            ],
            [
             0.8,
             "#7fbc41"
            ],
            [
             0.9,
             "#4d9221"
            ],
            [
             1,
             "#276419"
            ]
           ],
           "sequential": [
            [
             0,
             "#0d0887"
            ],
            [
             0.1111111111111111,
             "#46039f"
            ],
            [
             0.2222222222222222,
             "#7201a8"
            ],
            [
             0.3333333333333333,
             "#9c179e"
            ],
            [
             0.4444444444444444,
             "#bd3786"
            ],
            [
             0.5555555555555556,
             "#d8576b"
            ],
            [
             0.6666666666666666,
             "#ed7953"
            ],
            [
             0.7777777777777778,
             "#fb9f3a"
            ],
            [
             0.8888888888888888,
             "#fdca26"
            ],
            [
             1,
             "#f0f921"
            ]
           ],
           "sequentialminus": [
            [
             0,
             "#0d0887"
            ],
            [
             0.1111111111111111,
             "#46039f"
            ],
            [
             0.2222222222222222,
             "#7201a8"
            ],
            [
             0.3333333333333333,
             "#9c179e"
            ],
            [
             0.4444444444444444,
             "#bd3786"
            ],
            [
             0.5555555555555556,
             "#d8576b"
            ],
            [
             0.6666666666666666,
             "#ed7953"
            ],
            [
             0.7777777777777778,
             "#fb9f3a"
            ],
            [
             0.8888888888888888,
             "#fdca26"
            ],
            [
             1,
             "#f0f921"
            ]
           ]
          },
          "colorway": [
           "#636efa",
           "#EF553B",
           "#00cc96",
           "#ab63fa",
           "#FFA15A",
           "#19d3f3",
           "#FF6692",
           "#B6E880",
           "#FF97FF",
           "#FECB52"
          ],
          "font": {
           "color": "#2a3f5f"
          },
          "geo": {
           "bgcolor": "white",
           "lakecolor": "white",
           "landcolor": "#E5ECF6",
           "showlakes": true,
           "showland": true,
           "subunitcolor": "white"
          },
          "hoverlabel": {
           "align": "left"
          },
          "hovermode": "closest",
          "mapbox": {
           "style": "light"
          },
          "paper_bgcolor": "white",
          "plot_bgcolor": "#E5ECF6",
          "polar": {
           "angularaxis": {
            "gridcolor": "white",
            "linecolor": "white",
            "ticks": ""
           },
           "bgcolor": "#E5ECF6",
           "radialaxis": {
            "gridcolor": "white",
            "linecolor": "white",
            "ticks": ""
           }
          },
          "scene": {
           "xaxis": {
            "backgroundcolor": "#E5ECF6",
            "gridcolor": "white",
            "gridwidth": 2,
            "linecolor": "white",
            "showbackground": true,
            "ticks": "",
            "zerolinecolor": "white"
           },
           "yaxis": {
            "backgroundcolor": "#E5ECF6",
            "gridcolor": "white",
            "gridwidth": 2,
            "linecolor": "white",
            "showbackground": true,
            "ticks": "",
            "zerolinecolor": "white"
           },
           "zaxis": {
            "backgroundcolor": "#E5ECF6",
            "gridcolor": "white",
            "gridwidth": 2,
            "linecolor": "white",
            "showbackground": true,
            "ticks": "",
            "zerolinecolor": "white"
           }
          },
          "shapedefaults": {
           "line": {
            "color": "#2a3f5f"
           }
          },
          "ternary": {
           "aaxis": {
            "gridcolor": "white",
            "linecolor": "white",
            "ticks": ""
           },
           "baxis": {
            "gridcolor": "white",
            "linecolor": "white",
            "ticks": ""
           },
           "bgcolor": "#E5ECF6",
           "caxis": {
            "gridcolor": "white",
            "linecolor": "white",
            "ticks": ""
           }
          },
          "title": {
           "x": 0.05
          },
          "xaxis": {
           "automargin": true,
           "gridcolor": "white",
           "linecolor": "white",
           "ticks": "",
           "title": {
            "standoff": 15
           },
           "zerolinecolor": "white",
           "zerolinewidth": 2
          },
          "yaxis": {
           "automargin": true,
           "gridcolor": "white",
           "linecolor": "white",
           "ticks": "",
           "title": {
            "standoff": 15
           },
           "zerolinecolor": "white",
           "zerolinewidth": 2
          }
         }
        },
        "width": 600,
        "xaxis": {
         "anchor": "y",
         "domain": [
          0,
          1
         ]
        },
        "yaxis": {
         "anchor": "x",
         "domain": [
          0,
          1
         ]
        }
       }
      }
     },
     "metadata": {},
     "output_type": "display_data"
    }
   ],
   "source": [
    "xt = anp.array([0.0, 1.0, 2.0, 3.0, 4.0])\n",
    "yt = anp.array([0.0, 1.0, 1.5, 0.9, 1.0])\n",
    "\n",
    "sm = KRG(theta0=[1e-2],print_global=False)\n",
    "sm.set_training_values(xt, yt)\n",
    "sm.train()\n",
    "\n",
    "sm = Surrogate(sm)\n",
    "sm_predict = Surrogate2Callback(\"sm\", surrogate=sm)\n",
    "\n",
    "num = 100\n",
    "x = anp.linspace(0.0, 4.0, num)\n",
    "y=sm_predict(x).toarray()\n",
    "\n",
    "fig=make_subplots(1,1)\n",
    "fig.add_scatter(x=x,y=y[:,0],mode=\"lines+markers\",row=1,col=1,line={\"shape\":\"spline\",\"width\":2})\n",
    "fig.update_layout(width=600,margin={\"r\":20,\"l\":20,\"t\":20,\"b\":20})\n",
    "fig.show(config={\"scrollZoom\":True})"
   ]
  },
  {
   "cell_type": "code",
   "execution_count": 3,
   "id": "931887f8",
   "metadata": {},
   "outputs": [
    {
     "name": "stdout",
     "output_type": "stream",
     "text": [
      "This is Ipopt version 3.14.11, running with linear solver MUMPS 5.4.1.\n",
      "\n",
      "Number of nonzeros in equality constraint Jacobian...:        0\n",
      "Number of nonzeros in inequality constraint Jacobian.:        2\n",
      "Number of nonzeros in Lagrangian Hessian.............:        1\n",
      "\n"
     ]
    },
    {
     "ename": "IndexError",
     "evalue": "index 1 is out of bounds for axis 1 with size 1",
     "output_type": "error",
     "traceback": [
      "\u001b[31m---------------------------------------------------------------------------\u001b[39m",
      "\u001b[31mIndexError\u001b[39m                                Traceback (most recent call last)",
      "\u001b[36mFile \u001b[39m\u001b[32mc:\\Users\\Zcaic\\Desktop\\MyDoc\\ego\\surrogate.py:85\u001b[39m, in \u001b[36mSurrogate2Callback.get_jacobian.<locals>.JacFun.eval\u001b[39m\u001b[34m(self_jac, args)\u001b[39m\n\u001b[32m     83\u001b[39m x = args[\u001b[32m0\u001b[39m]\n\u001b[32m     84\u001b[39m x=x.toarray()\n\u001b[32m---> \u001b[39m\u001b[32m85\u001b[39m y_jac = \u001b[38;5;28;43mself\u001b[39;49m\u001b[43m.\u001b[49m\u001b[43moutput_der\u001b[49m\u001b[43m(\u001b[49m\u001b[43mx\u001b[49m\u001b[43m,\u001b[49m\u001b[43m \u001b[49m\u001b[32;43m1\u001b[39;49m\u001b[43m)\u001b[49m\n\u001b[32m     86\u001b[39m \u001b[38;5;28;01mreturn\u001b[39;00m [y_jac]\n",
      "\u001b[36mFile \u001b[39m\u001b[32mc:\\Users\\Zcaic\\Desktop\\MyDoc\\ego\\surrogate.py:19\u001b[39m, in \u001b[36mSurrogate.predict_derivate\u001b[39m\u001b[34m(self, x, order)\u001b[39m\n\u001b[32m     18\u001b[39m \u001b[38;5;28;01mdef\u001b[39;00m\u001b[38;5;250m \u001b[39m\u001b[34mpredict_derivate\u001b[39m(\u001b[38;5;28mself\u001b[39m, x, order):\n\u001b[32m---> \u001b[39m\u001b[32m19\u001b[39m     \u001b[38;5;28;01mreturn\u001b[39;00m \u001b[38;5;28;43mself\u001b[39;49m\u001b[43m.\u001b[49m\u001b[43msm\u001b[49m\u001b[43m.\u001b[49m\u001b[43mpredict_derivatives\u001b[49m\u001b[43m(\u001b[49m\u001b[43mx\u001b[49m\u001b[43m,\u001b[49m\u001b[43m \u001b[49m\u001b[43morder\u001b[49m\u001b[43m)\u001b[49m\n",
      "\u001b[36mFile \u001b[39m\u001b[32md:\\miniconda3\\envs\\py12\\Lib\\site-packages\\smt\\surrogate_models\\surrogate_model.py:345\u001b[39m, in \u001b[36mSurrogateModel.predict_derivatives\u001b[39m\u001b[34m(self, x, kx)\u001b[39m\n\u001b[32m    343\u001b[39m \u001b[38;5;66;03m# Evaluate the unknown points using the specified model-method\u001b[39;00m\n\u001b[32m    344\u001b[39m \u001b[38;5;28;01mwith\u001b[39;00m \u001b[38;5;28mself\u001b[39m.printer._timed_context(\u001b[33m\"\u001b[39m\u001b[33mPredicting\u001b[39m\u001b[33m\"\u001b[39m, key=\u001b[33m\"\u001b[39m\u001b[33mprediction\u001b[39m\u001b[33m\"\u001b[39m):\n\u001b[32m--> \u001b[39m\u001b[32m345\u001b[39m     y = \u001b[38;5;28;43mself\u001b[39;49m\u001b[43m.\u001b[49m\u001b[43m_predict_derivatives\u001b[49m\u001b[43m(\u001b[49m\u001b[43mx\u001b[49m\u001b[43m,\u001b[49m\u001b[43m \u001b[49m\u001b[43mkx\u001b[49m\u001b[43m)\u001b[49m\n\u001b[32m    346\u001b[39m \u001b[38;5;28;01mreturn\u001b[39;00m \u001b[38;5;28mself\u001b[39m._post_predict(x, y)\n",
      "\u001b[36mFile \u001b[39m\u001b[32md:\\miniconda3\\envs\\py12\\Lib\\site-packages\\smt\\surrogate_models\\krg_based.py:1759\u001b[39m, in \u001b[36mKrgBased._predict_derivatives\u001b[39m\u001b[34m(self, x, kx)\u001b[39m\n\u001b[32m   1756\u001b[39m r, dr = \u001b[38;5;28mself\u001b[39m.corr(d, derivative_params=derivative_dic)\n\u001b[32m   1757\u001b[39m r = r.reshape(n_eval, \u001b[38;5;28mself\u001b[39m.nt)\n\u001b[32m-> \u001b[39m\u001b[32m1759\u001b[39m drx = \u001b[43mdr\u001b[49m\u001b[43m[\u001b[49m\u001b[43m:\u001b[49m\u001b[43m,\u001b[49m\u001b[43m \u001b[49m\u001b[43mkx\u001b[49m\u001b[43m]\u001b[49m.reshape(n_eval, \u001b[38;5;28mself\u001b[39m.nt)\n\u001b[32m   1761\u001b[39m \u001b[38;5;28;01mif\u001b[39;00m \u001b[38;5;28mself\u001b[39m.options[\u001b[33m\"\u001b[39m\u001b[33mpoly\u001b[39m\u001b[33m\"\u001b[39m] == \u001b[33m\"\u001b[39m\u001b[33mconstant\u001b[39m\u001b[33m\"\u001b[39m:\n\u001b[32m   1762\u001b[39m     df = np.zeros((\u001b[32m1\u001b[39m, \u001b[38;5;28mself\u001b[39m.nx))\n",
      "\u001b[31mIndexError\u001b[39m: index 1 is out of bounds for axis 1 with size 1"
     ]
    },
    {
     "name": "stdout",
     "output_type": "stream",
     "text": [
      "Error evaluating objective gradient at user provided starting point.\n",
      "  No scaling factor for objective function computed!\n"
     ]
    },
    {
     "name": "stderr",
     "output_type": "stream",
     "text": [
      "Function jac_sm (0x17fc79bf640)\n",
      "Input 0 (i0): 1\n",
      "Input 1 (i1): 1\n",
      "Function nlp_grad_f (0x17fc79c2080)\n",
      "Input 0 (x): 1\n",
      "Input 1 (p): NULL\n",
      "CasADi - 2025-06-27 14:12:21 WARNING(\"IpoptUserClass::eval_grad_f failed:.../casadi/core/oracle_function.cpp:367: Error in solver:nlp_grad_f:Error in Function::operator() for 'nlp_grad_f' [MXFunction] at .../casadi/core/function.cpp:1539:\n",
      "Error in Function::operator() for 'jac_sm' [CallbackInternal] at .../casadi/core/function.cpp:1539:\n",
      ".../casadi/core/function_internal.cpp:3723: Failed to evaluate 'eval_dm' for jac_sm:\n",
      ".../casadi/core/callback_internal.cpp:116: Error calling \"eval\" for object jac_sm:\n",
      "/work/swig/python/target3/source/casadiPYTHON_wrap_gil_release.cxx:3855: index 1 is out of bounds for axis 1 with size 1\") [.../casadi/interfaces/ipopt/ipopt_nlp.cpp:118]\n"
     ]
    },
    {
     "ename": "IndexError",
     "evalue": "index 1 is out of bounds for axis 1 with size 1",
     "output_type": "error",
     "traceback": [
      "\u001b[31m---------------------------------------------------------------------------\u001b[39m",
      "\u001b[31mIndexError\u001b[39m                                Traceback (most recent call last)",
      "\u001b[36mFile \u001b[39m\u001b[32mc:\\Users\\Zcaic\\Desktop\\MyDoc\\ego\\surrogate.py:85\u001b[39m, in \u001b[36mSurrogate2Callback.get_jacobian.<locals>.JacFun.eval\u001b[39m\u001b[34m(self_jac, args)\u001b[39m\n\u001b[32m     83\u001b[39m x = args[\u001b[32m0\u001b[39m]\n\u001b[32m     84\u001b[39m x=x.toarray()\n\u001b[32m---> \u001b[39m\u001b[32m85\u001b[39m y_jac = \u001b[38;5;28;43mself\u001b[39;49m\u001b[43m.\u001b[49m\u001b[43moutput_der\u001b[49m\u001b[43m(\u001b[49m\u001b[43mx\u001b[49m\u001b[43m,\u001b[49m\u001b[43m \u001b[49m\u001b[32;43m1\u001b[39;49m\u001b[43m)\u001b[49m\n\u001b[32m     86\u001b[39m \u001b[38;5;28;01mreturn\u001b[39;00m [y_jac]\n",
      "\u001b[36mFile \u001b[39m\u001b[32mc:\\Users\\Zcaic\\Desktop\\MyDoc\\ego\\surrogate.py:19\u001b[39m, in \u001b[36mSurrogate.predict_derivate\u001b[39m\u001b[34m(self, x, order)\u001b[39m\n\u001b[32m     18\u001b[39m \u001b[38;5;28;01mdef\u001b[39;00m\u001b[38;5;250m \u001b[39m\u001b[34mpredict_derivate\u001b[39m(\u001b[38;5;28mself\u001b[39m, x, order):\n\u001b[32m---> \u001b[39m\u001b[32m19\u001b[39m     \u001b[38;5;28;01mreturn\u001b[39;00m \u001b[38;5;28;43mself\u001b[39;49m\u001b[43m.\u001b[49m\u001b[43msm\u001b[49m\u001b[43m.\u001b[49m\u001b[43mpredict_derivatives\u001b[49m\u001b[43m(\u001b[49m\u001b[43mx\u001b[49m\u001b[43m,\u001b[49m\u001b[43m \u001b[49m\u001b[43morder\u001b[49m\u001b[43m)\u001b[49m\n",
      "\u001b[36mFile \u001b[39m\u001b[32md:\\miniconda3\\envs\\py12\\Lib\\site-packages\\smt\\surrogate_models\\surrogate_model.py:345\u001b[39m, in \u001b[36mSurrogateModel.predict_derivatives\u001b[39m\u001b[34m(self, x, kx)\u001b[39m\n\u001b[32m    343\u001b[39m \u001b[38;5;66;03m# Evaluate the unknown points using the specified model-method\u001b[39;00m\n\u001b[32m    344\u001b[39m \u001b[38;5;28;01mwith\u001b[39;00m \u001b[38;5;28mself\u001b[39m.printer._timed_context(\u001b[33m\"\u001b[39m\u001b[33mPredicting\u001b[39m\u001b[33m\"\u001b[39m, key=\u001b[33m\"\u001b[39m\u001b[33mprediction\u001b[39m\u001b[33m\"\u001b[39m):\n\u001b[32m--> \u001b[39m\u001b[32m345\u001b[39m     y = \u001b[38;5;28;43mself\u001b[39;49m\u001b[43m.\u001b[49m\u001b[43m_predict_derivatives\u001b[49m\u001b[43m(\u001b[49m\u001b[43mx\u001b[49m\u001b[43m,\u001b[49m\u001b[43m \u001b[49m\u001b[43mkx\u001b[49m\u001b[43m)\u001b[49m\n\u001b[32m    346\u001b[39m \u001b[38;5;28;01mreturn\u001b[39;00m \u001b[38;5;28mself\u001b[39m._post_predict(x, y)\n",
      "\u001b[36mFile \u001b[39m\u001b[32md:\\miniconda3\\envs\\py12\\Lib\\site-packages\\smt\\surrogate_models\\krg_based.py:1759\u001b[39m, in \u001b[36mKrgBased._predict_derivatives\u001b[39m\u001b[34m(self, x, kx)\u001b[39m\n\u001b[32m   1756\u001b[39m r, dr = \u001b[38;5;28mself\u001b[39m.corr(d, derivative_params=derivative_dic)\n\u001b[32m   1757\u001b[39m r = r.reshape(n_eval, \u001b[38;5;28mself\u001b[39m.nt)\n\u001b[32m-> \u001b[39m\u001b[32m1759\u001b[39m drx = \u001b[43mdr\u001b[49m\u001b[43m[\u001b[49m\u001b[43m:\u001b[49m\u001b[43m,\u001b[49m\u001b[43m \u001b[49m\u001b[43mkx\u001b[49m\u001b[43m]\u001b[49m.reshape(n_eval, \u001b[38;5;28mself\u001b[39m.nt)\n\u001b[32m   1761\u001b[39m \u001b[38;5;28;01mif\u001b[39;00m \u001b[38;5;28mself\u001b[39m.options[\u001b[33m\"\u001b[39m\u001b[33mpoly\u001b[39m\u001b[33m\"\u001b[39m] == \u001b[33m\"\u001b[39m\u001b[33mconstant\u001b[39m\u001b[33m\"\u001b[39m:\n\u001b[32m   1762\u001b[39m     df = np.zeros((\u001b[32m1\u001b[39m, \u001b[38;5;28mself\u001b[39m.nx))\n",
      "\u001b[31mIndexError\u001b[39m: index 1 is out of bounds for axis 1 with size 1"
     ]
    },
    {
     "name": "stdout",
     "output_type": "stream",
     "text": [
      "\n",
      "Number of Iterations....: 0\n",
      "\n",
      "Number of objective function evaluations             = 0\n",
      "Number of objective gradient evaluations             = 1\n",
      "Number of equality constraint evaluations            = 0\n",
      "Number of inequality constraint evaluations          = 1\n",
      "Number of equality constraint Jacobian evaluations   = 0\n",
      "Number of inequality constraint Jacobian evaluations = 1\n",
      "Number of Lagrangian Hessian evaluations             = 0\n",
      "Total seconds in IPOPT                               = 0.422\n",
      "\n",
      "EXIT: Invalid number in NLP function or derivative detected.\n",
      "      solver  :   t_proc      (avg)   t_wall      (avg)    n_eval\n",
      "       nlp_g  |        0 (       0)   4.00us (  4.00us)         1\n",
      "  nlp_grad_f  | 419.00ms (209.50ms) 419.33ms (209.67ms)         2\n",
      "   nlp_jac_g  |        0 (       0)  28.00us ( 14.00us)         2\n",
      "       total  | 424.00ms (424.00ms) 423.47ms (423.47ms)         1\n"
     ]
    },
    {
     "name": "stderr",
     "output_type": "stream",
     "text": [
      "Function jac_sm (0x17fc79bf640)\n",
      "Input 0 (i0): 1\n",
      "Input 1 (i1): 1\n",
      "Function nlp_grad_f (0x17fc79c2080)\n",
      "Input 0 (x): 1\n",
      "Input 1 (p): NULL\n",
      "CasADi - 2025-06-27 14:12:21 WARNING(\"IpoptUserClass::eval_grad_f failed:.../casadi/core/oracle_function.cpp:367: Error in solver:nlp_grad_f:Error in Function::operator() for 'nlp_grad_f' [MXFunction] at .../casadi/core/function.cpp:1539:\n",
      "Error in Function::operator() for 'jac_sm' [CallbackInternal] at .../casadi/core/function.cpp:1539:\n",
      ".../casadi/core/function_internal.cpp:3723: Failed to evaluate 'eval_dm' for jac_sm:\n",
      ".../casadi/core/callback_internal.cpp:116: Error calling \"eval\" for object jac_sm:\n",
      "/work/swig/python/target3/source/casadiPYTHON_wrap_gil_release.cxx:3855: index 1 is out of bounds for axis 1 with size 1\") [.../casadi/interfaces/ipopt/ipopt_nlp.cpp:118]\n"
     ]
    },
    {
     "ename": "RuntimeError",
     "evalue": "Error in Opti::solve [OptiNode] at .../casadi/core/optistack.cpp:217:\n.../casadi/core/optistack_internal.cpp:1334: Assertion \"return_success(accept_limit)\" failed:\nSolver failed. You may use opti.debug.value to investigate the latest values of variables. return_status is 'Invalid_Number_Detected'",
     "output_type": "error",
     "traceback": [
      "\u001b[31m---------------------------------------------------------------------------\u001b[39m",
      "\u001b[31mRuntimeError\u001b[39m                              Traceback (most recent call last)",
      "\u001b[32m~\\AppData\\Local\\Temp\\ipykernel_17332\\2963659310.py\u001b[39m in \u001b[36m?\u001b[39m\u001b[34m()\u001b[39m\n\u001b[32m      1\u001b[39m opti=asb.Opti()\n\u001b[32m      2\u001b[39m x=opti.variable(init_guess=\u001b[32m1.0\u001b[39m,lower_bound=\u001b[32m0.0\u001b[39m,upper_bound=\u001b[32m4.0\u001b[39m)\n\u001b[32m      3\u001b[39m obj=sm_predict(x)\n\u001b[32m      4\u001b[39m opti.maximize(obj)\n\u001b[32m----> \u001b[39m\u001b[32m5\u001b[39m sol=opti.solve()\n\u001b[32m      6\u001b[39m print(sol(x),sol(obj))\n",
      "\u001b[32md:\\miniconda3\\envs\\py12\\Lib\\site-packages\\aerosandbox\\optimization\\opti.py\u001b[39m in \u001b[36m?\u001b[39m\u001b[34m(self, parameter_mapping, max_iter, max_runtime, callback, verbose, jit, detect_simple_bounds, expand, options, behavior_on_failure)\u001b[39m\n\u001b[32m    717\u001b[39m             self.callback(callback)\n\u001b[32m    718\u001b[39m \n\u001b[32m    719\u001b[39m         \u001b[38;5;66;03m# Do the actual solve\u001b[39;00m\n\u001b[32m    720\u001b[39m         \u001b[38;5;28;01mif\u001b[39;00m behavior_on_failure == \u001b[33m\"raise\"\u001b[39m:\n\u001b[32m--> \u001b[39m\u001b[32m721\u001b[39m             sol = OptiSol(opti=self, cas_optisol=super().solve())\n\u001b[32m    722\u001b[39m         \u001b[38;5;28;01melif\u001b[39;00m behavior_on_failure == \u001b[33m\"return_last\"\u001b[39m:\n\u001b[32m    723\u001b[39m             \u001b[38;5;28;01mtry\u001b[39;00m:\n\u001b[32m    724\u001b[39m                 sol = OptiSol(opti=self, cas_optisol=super().solve())\n",
      "\u001b[32md:\\miniconda3\\envs\\py12\\Lib\\site-packages\\casadi\\casadi.py\u001b[39m in \u001b[36m?\u001b[39m\u001b[34m(self, *args)\u001b[39m\n\u001b[32m  51007\u001b[39m \n\u001b[32m  51008\u001b[39m \n\u001b[32m  51009\u001b[39m \n\u001b[32m  51010\u001b[39m         \"\"\"\n\u001b[32m> \u001b[39m\u001b[32m51011\u001b[39m         \u001b[38;5;28;01mreturn\u001b[39;00m _casadi.Opti_solve(self, *args)\n",
      "\u001b[31mRuntimeError\u001b[39m: Error in Opti::solve [OptiNode] at .../casadi/core/optistack.cpp:217:\n.../casadi/core/optistack_internal.cpp:1334: Assertion \"return_success(accept_limit)\" failed:\nSolver failed. You may use opti.debug.value to investigate the latest values of variables. return_status is 'Invalid_Number_Detected'"
     ]
    }
   ],
   "source": [
    "opti=asb.Opti()\n",
    "x=opti.variable(init_guess=1.0,lower_bound=0.0,upper_bound=4.0)\n",
    "obj=sm_predict(x)\n",
    "opti.maximize(obj)\n",
    "sol=opti.solve()\n",
    "print(sol(x),sol(obj))"
   ]
  },
  {
   "cell_type": "code",
   "execution_count": null,
   "id": "eb76b916",
   "metadata": {},
   "outputs": [],
   "source": []
  }
 ],
 "metadata": {
  "kernelspec": {
   "display_name": "py12",
   "language": "python",
   "name": "python3"
  },
  "language_info": {
   "codemirror_mode": {
    "name": "ipython",
    "version": 3
   },
   "file_extension": ".py",
   "mimetype": "text/x-python",
   "name": "python",
   "nbconvert_exporter": "python",
   "pygments_lexer": "ipython3",
   "version": "3.12.9"
  }
 },
 "nbformat": 4,
 "nbformat_minor": 5
}
