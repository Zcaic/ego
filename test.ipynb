{
 "cells": [
  {
   "cell_type": "code",
   "execution_count": 1,
   "id": "f0f5d2a5",
   "metadata": {},
   "outputs": [],
   "source": [
    "import plotly.graph_objects as go \n",
    "from plotly.subplots import make_subplots\n",
    "import aerosandbox.numpy as anp\n",
    "import aerosandbox as asb \n",
    "from surrogate import Surrogate2Callback,Surrogate,KRG"
   ]
  },
  {
   "cell_type": "code",
   "execution_count": 2,
   "id": "0ff6df02",
   "metadata": {},
   "outputs": [
    {
     "data": {
      "application/vnd.plotly.v1+json": {
       "config": {
        "plotlyServerURL": "https://plot.ly",
        "scrollZoom": true
       },
       "data": [
        {
         "line": {
          "shape": "spline",
          "width": 2
         },
         "mode": "lines+markers",
         "type": "scatter",
         "x": {
          "bdata": "AAAAAAAAAABbv1Kg1q+kP1u/UqDWr7Q/CB988MEHvz9bv1Kg1q/EPzJvZ0jM28k/CB988MEHzz9wZ0jM2xnSP1u/UqDWr9Q/RhdddNFF1z8yb2dIzNvZPx3HcRzHcdw/CB988MEH3z96O0Ni3s7gP3BnSMzbGeI/ZZNNNtlk4z9bv1Kg1q/kP1HrVwrU+uU/RhdddNFF5z88Q2LezpDoPzJvZ0jM2+k/J5tssskm6z8dx3Ecx3HsPxPzdobEvO0/CB988MEH7z9/pUCtXynwP3o7Q2LezvA/ddFFF1108T9wZ0jM2xnyP2r9SoFav/I/ZZNNNtlk8z9gKVDrVwr0P1u/UqDWr/Q/VlVVVVVV9T9R61cK1Pr1P0yBWr9SoPY/RhdddNFF9z9BrV8pUOv3PzxDYt7OkPg/N9lkk002+T8yb2dIzNv5Py0Fav1Kgfo/J5tssskm+z8iMW9nSMz7Px3HcRzHcfw/GF100UUX/T8T83aGxLz9Pw6JeTtDYv4/CB988MEH/z8DtX6lQK3/P3+lQK1fKQBAffDBBx98AEB6O0Ni3s4AQHeGxLydIQFAddFFF110AUByHMdxHMcBQHBnSMzbGQJAbbLJJptsAkBq/UqBWr8CQGhIzNsZEgNAZZNNNtlkA0Bj3s6QmLcDQGApUOtXCgRAXnTRRRddBEBbv1Kg1q8EQFgK1PqVAgVAVlVVVVVVBUBToNavFKgFQFHrVwrU+gVATjbZZJNNBkBMgVq/UqAGQEnM2xkS8wZARhdddNFFB0BEYt7OkJgHQEGtXylQ6wdAP/jggw8+CEA8Q2LezpAIQDmO4ziO4whAN9lkk002CUA0JObtDIkJQDJvZ0jM2wlAL7rooosuCkAtBWr9SoEKQCpQ61cK1ApAJ5tssskmC0Al5u0MiXkLQCIxb2dIzAtAIHzwwQcfDEAdx3Ecx3EMQBsS83aGxAxAGF100UUXDUAVqPUrBWoNQBPzdobEvA1AED744IMPDkAOiXk7Q2IOQAvU+pUCtQ5ACB988MEHD0AGav1KgVoPQAO1fqVArQ9AAAAAAAAAEEA=",
          "dtype": "f8"
         },
         "xaxis": "x",
         "y": {
          "bdata": "AAAAAACAGT1AtKD4DX6QPxBb76Z++KE/wMuAlsoorT8oT6UH/OS0P6idTw3i6bs/bG1WsenOwT8YRiTTOP3FP8y5/DsnfMo/iMrdBHxHzz9QktPpQS3SP6qMyH8M2NQ/wp/3PFah1z8XxfOuJ4baP38KuYReg90/RYmQaNlK4D98+IY63tzhPxN84VH8deM/ESZqumcU5T/+Hhy8TLbmP/NyJqHSWeg/ckyCcx796T9C2GuuVZ7rP5VLwuCgO+0/ibsBPi7T7j8QVhUOmjHwP+YGva759PA/wxSm4tyy8T8u+/AbcmryP6/if3LwGvM/Jju+rpjD8z8JguxJtmP0P/Tv7GOg+vQ/xQ5wrrqH9T9AazVNdgr2P8qt3qpSgvY/ydGUQd7u9j90u3pWt0/3P3MjoaaMpPc/1PToAx7t9z/GIP7fPCn4P0nhWMPMWPg/IpEBrsN7+D8ikq5fKpL4PxbKvoQcnPg/MDaQxciZ+D9CosK1cIv4P1zSG6Focfg/vej8MxdM+D9ya6j99Bv4P8xH/MqL4fc/wC+62HWd9z+QuADdXFD3P1E3Luj4+vY/zHUIHg+e9j+Elq5IcDr2P8QZiUf30PU/dvYaXYdi9T9JBEJfCvD0P+hqGM5uevQ/cWBA1qUC9D+IYOtDoYnzPwqfYmxREPM/KqI0FKOX8j/a9HBYfSDyP2+YhKG/q/E/5LJWpj868T+k/DOGx8zwPzpf6P8TZPA/M3EZzNIA8D9oHBZBQkfvPyPJ5cIUmu4/bXDFCg777T8zQDxf92rtP4rf1Qdx6uw/CwUubPF57D/RcB2txBnsPx+78rgMyus/GoXQ2cGK6z+HvH27s1vrP8NoNOSKPOs/uSRQmsos6z+ixi4v0yvrP1jhKqbkOOs/CBVXrSFT6z8d8o/cknnrP5XfnC4qq+s/Nktyp8bm6z+hhToaOCvsP4cEmAFDd+w/BSWbXKTJ7D/0miWDFSHtP38V7ORPfO0/qdzvphDa7T/C9SEUHDnuP52a4tZAmO4/zrw08lr27j9nn79yVlLvP4GbEdExq+8/qP//////7z8=",
          "dtype": "f8"
         },
         "yaxis": "y"
        }
       ],
       "layout": {
        "margin": {
         "b": 20,
         "l": 20,
         "r": 20,
         "t": 20
        },
        "template": {
         "data": {
          "bar": [
           {
            "error_x": {
             "color": "#2a3f5f"
            },
            "error_y": {
             "color": "#2a3f5f"
            },
            "marker": {
             "line": {
              "color": "#E5ECF6",
              "width": 0.5
             },
             "pattern": {
              "fillmode": "overlay",
              "size": 10,
              "solidity": 0.2
             }
            },
            "type": "bar"
           }
          ],
          "barpolar": [
           {
            "marker": {
             "line": {
              "color": "#E5ECF6",
              "width": 0.5
             },
             "pattern": {
              "fillmode": "overlay",
              "size": 10,
              "solidity": 0.2
             }
            },
            "type": "barpolar"
           }
          ],
          "carpet": [
           {
            "aaxis": {
             "endlinecolor": "#2a3f5f",
             "gridcolor": "white",
             "linecolor": "white",
             "minorgridcolor": "white",
             "startlinecolor": "#2a3f5f"
            },
            "baxis": {
             "endlinecolor": "#2a3f5f",
             "gridcolor": "white",
             "linecolor": "white",
             "minorgridcolor": "white",
             "startlinecolor": "#2a3f5f"
            },
            "type": "carpet"
           }
          ],
          "choropleth": [
           {
            "colorbar": {
             "outlinewidth": 0,
             "ticks": ""
            },
            "type": "choropleth"
           }
          ],
          "contour": [
           {
            "colorbar": {
             "outlinewidth": 0,
             "ticks": ""
            },
            "colorscale": [
             [
              0,
              "#0d0887"
             ],
             [
              0.1111111111111111,
              "#46039f"
             ],
             [
              0.2222222222222222,
              "#7201a8"
             ],
             [
              0.3333333333333333,
              "#9c179e"
             ],
             [
              0.4444444444444444,
              "#bd3786"
             ],
             [
              0.5555555555555556,
              "#d8576b"
             ],
             [
              0.6666666666666666,
              "#ed7953"
             ],
             [
              0.7777777777777778,
              "#fb9f3a"
             ],
             [
              0.8888888888888888,
              "#fdca26"
             ],
             [
              1,
              "#f0f921"
             ]
            ],
            "type": "contour"
           }
          ],
          "contourcarpet": [
           {
            "colorbar": {
             "outlinewidth": 0,
             "ticks": ""
            },
            "type": "contourcarpet"
           }
          ],
          "heatmap": [
           {
            "colorbar": {
             "outlinewidth": 0,
             "ticks": ""
            },
            "colorscale": [
             [
              0,
              "#0d0887"
             ],
             [
              0.1111111111111111,
              "#46039f"
             ],
             [
              0.2222222222222222,
              "#7201a8"
             ],
             [
              0.3333333333333333,
              "#9c179e"
             ],
             [
              0.4444444444444444,
              "#bd3786"
             ],
             [
              0.5555555555555556,
              "#d8576b"
             ],
             [
              0.6666666666666666,
              "#ed7953"
             ],
             [
              0.7777777777777778,
              "#fb9f3a"
             ],
             [
              0.8888888888888888,
              "#fdca26"
             ],
             [
              1,
              "#f0f921"
             ]
            ],
            "type": "heatmap"
           }
          ],
          "histogram": [
           {
            "marker": {
             "pattern": {
              "fillmode": "overlay",
              "size": 10,
              "solidity": 0.2
             }
            },
            "type": "histogram"
           }
          ],
          "histogram2d": [
           {
            "colorbar": {
             "outlinewidth": 0,
             "ticks": ""
            },
            "colorscale": [
             [
              0,
              "#0d0887"
             ],
             [
              0.1111111111111111,
              "#46039f"
             ],
             [
              0.2222222222222222,
              "#7201a8"
             ],
             [
              0.3333333333333333,
              "#9c179e"
             ],
             [
              0.4444444444444444,
              "#bd3786"
             ],
             [
              0.5555555555555556,
              "#d8576b"
             ],
             [
              0.6666666666666666,
              "#ed7953"
             ],
             [
              0.7777777777777778,
              "#fb9f3a"
             ],
             [
              0.8888888888888888,
              "#fdca26"
             ],
             [
              1,
              "#f0f921"
             ]
            ],
            "type": "histogram2d"
           }
          ],
          "histogram2dcontour": [
           {
            "colorbar": {
             "outlinewidth": 0,
             "ticks": ""
            },
            "colorscale": [
             [
              0,
              "#0d0887"
             ],
             [
              0.1111111111111111,
              "#46039f"
             ],
             [
              0.2222222222222222,
              "#7201a8"
             ],
             [
              0.3333333333333333,
              "#9c179e"
             ],
             [
              0.4444444444444444,
              "#bd3786"
             ],
             [
              0.5555555555555556,
              "#d8576b"
             ],
             [
              0.6666666666666666,
              "#ed7953"
             ],
             [
              0.7777777777777778,
              "#fb9f3a"
             ],
             [
              0.8888888888888888,
              "#fdca26"
             ],
             [
              1,
              "#f0f921"
             ]
            ],
            "type": "histogram2dcontour"
           }
          ],
          "mesh3d": [
           {
            "colorbar": {
             "outlinewidth": 0,
             "ticks": ""
            },
            "type": "mesh3d"
           }
          ],
          "parcoords": [
           {
            "line": {
             "colorbar": {
              "outlinewidth": 0,
              "ticks": ""
             }
            },
            "type": "parcoords"
           }
          ],
          "pie": [
           {
            "automargin": true,
            "type": "pie"
           }
          ],
          "scatter": [
           {
            "fillpattern": {
             "fillmode": "overlay",
             "size": 10,
             "solidity": 0.2
            },
            "type": "scatter"
           }
          ],
          "scatter3d": [
           {
            "line": {
             "colorbar": {
              "outlinewidth": 0,
              "ticks": ""
             }
            },
            "marker": {
             "colorbar": {
              "outlinewidth": 0,
              "ticks": ""
             }
            },
            "type": "scatter3d"
           }
          ],
          "scattercarpet": [
           {
            "marker": {
             "colorbar": {
              "outlinewidth": 0,
              "ticks": ""
             }
            },
            "type": "scattercarpet"
           }
          ],
          "scattergeo": [
           {
            "marker": {
             "colorbar": {
              "outlinewidth": 0,
              "ticks": ""
             }
            },
            "type": "scattergeo"
           }
          ],
          "scattergl": [
           {
            "marker": {
             "colorbar": {
              "outlinewidth": 0,
              "ticks": ""
             }
            },
            "type": "scattergl"
           }
          ],
          "scattermap": [
           {
            "marker": {
             "colorbar": {
              "outlinewidth": 0,
              "ticks": ""
             }
            },
            "type": "scattermap"
           }
          ],
          "scattermapbox": [
           {
            "marker": {
             "colorbar": {
              "outlinewidth": 0,
              "ticks": ""
             }
            },
            "type": "scattermapbox"
           }
          ],
          "scatterpolar": [
           {
            "marker": {
             "colorbar": {
              "outlinewidth": 0,
              "ticks": ""
             }
            },
            "type": "scatterpolar"
           }
          ],
          "scatterpolargl": [
           {
            "marker": {
             "colorbar": {
              "outlinewidth": 0,
              "ticks": ""
             }
            },
            "type": "scatterpolargl"
           }
          ],
          "scatterternary": [
           {
            "marker": {
             "colorbar": {
              "outlinewidth": 0,
              "ticks": ""
             }
            },
            "type": "scatterternary"
           }
          ],
          "surface": [
           {
            "colorbar": {
             "outlinewidth": 0,
             "ticks": ""
            },
            "colorscale": [
             [
              0,
              "#0d0887"
             ],
             [
              0.1111111111111111,
              "#46039f"
             ],
             [
              0.2222222222222222,
              "#7201a8"
             ],
             [
              0.3333333333333333,
              "#9c179e"
             ],
             [
              0.4444444444444444,
              "#bd3786"
             ],
             [
              0.5555555555555556,
              "#d8576b"
             ],
             [
              0.6666666666666666,
              "#ed7953"
             ],
             [
              0.7777777777777778,
              "#fb9f3a"
             ],
             [
              0.8888888888888888,
              "#fdca26"
             ],
             [
              1,
              "#f0f921"
             ]
            ],
            "type": "surface"
           }
          ],
          "table": [
           {
            "cells": {
             "fill": {
              "color": "#EBF0F8"
             },
             "line": {
              "color": "white"
             }
            },
            "header": {
             "fill": {
              "color": "#C8D4E3"
             },
             "line": {
              "color": "white"
             }
            },
            "type": "table"
           }
          ]
         },
         "layout": {
          "annotationdefaults": {
           "arrowcolor": "#2a3f5f",
           "arrowhead": 0,
           "arrowwidth": 1
          },
          "autotypenumbers": "strict",
          "coloraxis": {
           "colorbar": {
            "outlinewidth": 0,
            "ticks": ""
           }
          },
          "colorscale": {
           "diverging": [
            [
             0,
             "#8e0152"
            ],
            [
             0.1,
             "#c51b7d"
            ],
            [
             0.2,
             "#de77ae"
            ],
            [
             0.3,
             "#f1b6da"
            ],
            [
             0.4,
             "#fde0ef"
            ],
            [
             0.5,
             "#f7f7f7"
            ],
            [
             0.6,
             "#e6f5d0"
            ],
            [
             0.7,
             "#b8e186"
            ],
            [
             0.8,
             "#7fbc41"
            ],
            [
             0.9,
             "#4d9221"
            ],
            [
             1,
             "#276419"
            ]
           ],
           "sequential": [
            [
             0,
             "#0d0887"
            ],
            [
             0.1111111111111111,
             "#46039f"
            ],
            [
             0.2222222222222222,
             "#7201a8"
            ],
            [
             0.3333333333333333,
             "#9c179e"
            ],
            [
             0.4444444444444444,
             "#bd3786"
            ],
            [
             0.5555555555555556,
             "#d8576b"
            ],
            [
             0.6666666666666666,
             "#ed7953"
            ],
            [
             0.7777777777777778,
             "#fb9f3a"
            ],
            [
             0.8888888888888888,
             "#fdca26"
            ],
            [
             1,
             "#f0f921"
            ]
           ],
           "sequentialminus": [
            [
             0,
             "#0d0887"
            ],
            [
             0.1111111111111111,
             "#46039f"
            ],
            [
             0.2222222222222222,
             "#7201a8"
            ],
            [
             0.3333333333333333,
             "#9c179e"
            ],
            [
             0.4444444444444444,
             "#bd3786"
            ],
            [
             0.5555555555555556,
             "#d8576b"
            ],
            [
             0.6666666666666666,
             "#ed7953"
            ],
            [
             0.7777777777777778,
             "#fb9f3a"
            ],
            [
             0.8888888888888888,
             "#fdca26"
            ],
            [
             1,
             "#f0f921"
            ]
           ]
          },
          "colorway": [
           "#636efa",
           "#EF553B",
           "#00cc96",
           "#ab63fa",
           "#FFA15A",
           "#19d3f3",
           "#FF6692",
           "#B6E880",
           "#FF97FF",
           "#FECB52"
          ],
          "font": {
           "color": "#2a3f5f"
          },
          "geo": {
           "bgcolor": "white",
           "lakecolor": "white",
           "landcolor": "#E5ECF6",
           "showlakes": true,
           "showland": true,
           "subunitcolor": "white"
          },
          "hoverlabel": {
           "align": "left"
          },
          "hovermode": "closest",
          "mapbox": {
           "style": "light"
          },
          "paper_bgcolor": "white",
          "plot_bgcolor": "#E5ECF6",
          "polar": {
           "angularaxis": {
            "gridcolor": "white",
            "linecolor": "white",
            "ticks": ""
           },
           "bgcolor": "#E5ECF6",
           "radialaxis": {
            "gridcolor": "white",
            "linecolor": "white",
            "ticks": ""
           }
          },
          "scene": {
           "xaxis": {
            "backgroundcolor": "#E5ECF6",
            "gridcolor": "white",
            "gridwidth": 2,
            "linecolor": "white",
            "showbackground": true,
            "ticks": "",
            "zerolinecolor": "white"
           },
           "yaxis": {
            "backgroundcolor": "#E5ECF6",
            "gridcolor": "white",
            "gridwidth": 2,
            "linecolor": "white",
            "showbackground": true,
            "ticks": "",
            "zerolinecolor": "white"
           },
           "zaxis": {
            "backgroundcolor": "#E5ECF6",
            "gridcolor": "white",
            "gridwidth": 2,
            "linecolor": "white",
            "showbackground": true,
            "ticks": "",
            "zerolinecolor": "white"
           }
          },
          "shapedefaults": {
           "line": {
            "color": "#2a3f5f"
           }
          },
          "ternary": {
           "aaxis": {
            "gridcolor": "white",
            "linecolor": "white",
            "ticks": ""
           },
           "baxis": {
            "gridcolor": "white",
            "linecolor": "white",
            "ticks": ""
           },
           "bgcolor": "#E5ECF6",
           "caxis": {
            "gridcolor": "white",
            "linecolor": "white",
            "ticks": ""
           }
          },
          "title": {
           "x": 0.05
          },
          "xaxis": {
           "automargin": true,
           "gridcolor": "white",
           "linecolor": "white",
           "ticks": "",
           "title": {
            "standoff": 15
           },
           "zerolinecolor": "white",
           "zerolinewidth": 2
          },
          "yaxis": {
           "automargin": true,
           "gridcolor": "white",
           "linecolor": "white",
           "ticks": "",
           "title": {
            "standoff": 15
           },
           "zerolinecolor": "white",
           "zerolinewidth": 2
          }
         }
        },
        "width": 600,
        "xaxis": {
         "anchor": "y",
         "domain": [
          0,
          1
         ]
        },
        "yaxis": {
         "anchor": "x",
         "domain": [
          0,
          1
         ]
        }
       }
      }
     },
     "metadata": {},
     "output_type": "display_data"
    }
   ],
   "source": [
    "xt = anp.array([0.0, 1.0, 2.0, 3.0, 4.0])\n",
    "yt = anp.array([0.0, 1.0, 1.5, 0.9, 1.0])\n",
    "\n",
    "sm = KRG(theta0=[1e-2],print_global=False)\n",
    "sm.set_training_values(xt, yt)\n",
    "sm.train()\n",
    "\n",
    "sm = Surrogate(sm)\n",
    "sm_predict = Surrogate2Callback(\"sm\", surrogate=sm)\n",
    "\n",
    "num = 100\n",
    "x = anp.linspace(0.0, 4.0, num)\n",
    "y=sm_predict(x).toarray()\n",
    "\n",
    "fig=make_subplots(1,1)\n",
    "fig.add_scatter(x=x,y=y[:,0],mode=\"lines+markers\",row=1,col=1,line={\"shape\":\"spline\",\"width\":2})\n",
    "fig.update_layout(width=600,margin={\"r\":20,\"l\":20,\"t\":20,\"b\":20})\n",
    "fig.show(config={\"scrollZoom\":True})"
   ]
  },
  {
   "cell_type": "code",
   "execution_count": null,
   "id": "931887f8",
   "metadata": {},
   "outputs": [],
   "source": [
    "opti=asb.Opti()\n",
    "x=opti.variable(init_guess=1.0,lower_bound=0.0,upper_bound=4.0)\n",
    "obj=sm_predict(x)\n",
    "opti.maximize(obj)\n",
    "sol=opti.solve()\n",
    "print(sol(x),sol(obj))"
   ]
  },
  {
   "cell_type": "code",
   "execution_count": null,
   "id": "eb76b916",
   "metadata": {},
   "outputs": [
    {
     "name": "stdout",
     "output_type": "stream",
     "text": [
      "1.4867195147342979e-06\n",
      "1.4867195147342979e-06\n"
     ]
    }
   ],
   "source": [
    "from scipy.stats import norm \n",
    "\n",
    "def norm_pdf(x,loc=0,scale=1):\n",
    "    x=(x-loc)/scale \n",
    "    y=anp.exp(-x**2/2)/(anp.sqrt(2*anp.pi))\n",
    "    y=y/scale \n",
    "    return y \n",
    "\n",
    "\n",
    "x=5 \n",
    "print(norm.pdf(x))\n",
    "print(norm_pdf(x))\n",
    "norm.cdf"
   ]
  },
  {
   "cell_type": "code",
   "execution_count": 4,
   "id": "f6447468",
   "metadata": {},
   "outputs": [
    {
     "name": "stdout",
     "output_type": "stream",
     "text": [
      "积分值: @1=0x0, I(0, 0x1, 0x1, 0x1, @1, @1, @1){0}\n"
     ]
    },
    {
     "name": "stderr",
     "output_type": "stream",
     "text": [
      "CasADi - 2025-06-29 21:47:54 WARNING(\"The options 't0', 'tf', 'grid' and 'output_t0' have been deprecated.\n",
      "The same functionality is provided by providing additional input arguments to the 'integrator' function, in particular:\n",
      " * Call integrator(..., t0, tf, options) for a single output time, or\n",
      " * Call integrator(..., t0, grid, options) for multiple grid points.\n",
      "The legacy 'output_t0' option can be emulated by including or excluding 't0' in 'grid'.\n",
      "Backwards compatibility is provided in this release only.\") [.../casadi/core/integrator.cpp:692]\n"
     ]
    }
   ],
   "source": [
    "import casadi as ca\n",
    "\n",
    "# 定义变量\n",
    "t = ca.MX.sym('t')   # 时间\n",
    "x = ca.MX.sym('x')   # 状态（这里状态就是我们要累积的积分值）\n",
    "\n",
    "# 定义被积函数，例如 f(t) = t^2\n",
    "f = t**2\n",
    "\n",
    "# 定义微分方程：dx/dt = f(t)\n",
    "ode = {'x': x, 't': t, 'ode': f}\n",
    "\n",
    "# 创建积分器，区间 [a, b]\n",
    "a = 0\n",
    "b = 2\n",
    "I = ca.integrator('I', 'cvodes', ode, {'t0': a, 'tf': b})\n",
    "\n",
    "# 初始状态（积分从0开始）\n",
    "x0 = ca.MX(0)\n",
    "res = I(x0=x0)\n",
    "\n",
    "# 积分结果\n",
    "result = res['xf']\n",
    "print(\"积分值:\", result)"
   ]
  }
 ],
 "metadata": {
  "kernelspec": {
   "display_name": "py12",
   "language": "python",
   "name": "python3"
  },
  "language_info": {
   "codemirror_mode": {
    "name": "ipython",
    "version": 3
   },
   "file_extension": ".py",
   "mimetype": "text/x-python",
   "name": "python",
   "nbconvert_exporter": "python",
   "pygments_lexer": "ipython3",
   "version": "3.12.9"
  }
 },
 "nbformat": 4,
 "nbformat_minor": 5
}
